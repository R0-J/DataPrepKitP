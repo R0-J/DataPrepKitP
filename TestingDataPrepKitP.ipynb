{
 "cells": [
  {
   "cell_type": "code",
   "execution_count": null,
   "id": "a3c1aaa0",
   "metadata": {},
   "outputs": [],
   "source": [
    "! pip install DataPrepKitP"
   ]
  },
  {
   "cell_type": "code",
   "execution_count": null,
   "id": "198af480",
   "metadata": {},
   "outputs": [],
   "source": [
    "import DataPrepKitP as dp"
   ]
  },
  {
   "cell_type": "code",
   "execution_count": null,
   "id": "1ce02a42",
   "metadata": {},
   "outputs": [],
   "source": [
    "# You can use CSV, JSON, Excel files\n",
    "data = dp.read_data('data.csv')\n",
    "data"
   ]
  },
  {
   "cell_type": "code",
   "execution_count": null,
   "id": "2ab53502",
   "metadata": {},
   "outputs": [],
   "source": [
    "dp.data_summary(data)"
   ]
  },
  {
   "cell_type": "code",
   "execution_count": null,
   "id": "ea5cb539",
   "metadata": {},
   "outputs": [],
   "source": [
    "# The strategy: {'mean', 'median', 'mode', 'drop'}, default='mean' \n",
    "data = dp.handle_missing_values(data, 'mean')\n",
    "data"
   ]
  },
  {
   "cell_type": "code",
   "execution_count": null,
   "id": "ef54409b",
   "metadata": {},
   "outputs": [],
   "source": [
    "data = dp.encode_categorical_data(data, 'column_name')\n",
    "data"
   ]
  }
 ],
 "metadata": {
  "kernelspec": {
   "display_name": "Python 3 (ipykernel)",
   "language": "python",
   "name": "python3"
  },
  "language_info": {
   "codemirror_mode": {
    "name": "ipython",
    "version": 3
   },
   "file_extension": ".py",
   "mimetype": "text/x-python",
   "name": "python",
   "nbconvert_exporter": "python",
   "pygments_lexer": "ipython3",
   "version": "3.11.5"
  }
 },
 "nbformat": 4,
 "nbformat_minor": 5
}
